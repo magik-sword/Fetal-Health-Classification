{
 "cells": [
  {
   "cell_type": "markdown",
   "id": "612c781c",
   "metadata": {},
   "source": [
    "# Training and Evaluation"
   ]
  },
  {
   "cell_type": "code",
   "execution_count": 1,
   "id": "29f0680f",
   "metadata": {},
   "outputs": [],
   "source": [
    "import pandas as pd\n",
    "import matplotlib.pyplot as plt\n",
    "from IPython.display import HTML, display\n",
    "import tabulate\n",
    "from sklearn.model_selection import train_test_split, GridSearchCV, StratifiedKFold\n",
    "from sklearn.ensemble import RandomForestClassifier\n",
    "from sklearn.metrics import confusion_matrix, ConfusionMatrixDisplay, classification_report, f1_score\n",
    "from sklearn.preprocessing import StandardScaler,  LabelEncoder\n",
    "from xgboost import XGBClassifier\n",
    "from sklearn.utils.class_weight import compute_sample_weight\n",
    "from imblearn.over_sampling import RandomOverSampler, SMOTE"
   ]
  },
  {
   "cell_type": "code",
   "execution_count": 2,
   "id": "b49bc541",
   "metadata": {},
   "outputs": [],
   "source": [
    "df = pd.read_csv(\"df_encoded.csv\")"
   ]
  },
  {
   "cell_type": "code",
   "execution_count": 3,
   "id": "98ca9277",
   "metadata": {
    "scrolled": true
   },
   "outputs": [
    {
     "data": {
      "text/html": [
       "<div>\n",
       "<style scoped>\n",
       "    .dataframe tbody tr th:only-of-type {\n",
       "        vertical-align: middle;\n",
       "    }\n",
       "\n",
       "    .dataframe tbody tr th {\n",
       "        vertical-align: top;\n",
       "    }\n",
       "\n",
       "    .dataframe thead th {\n",
       "        text-align: right;\n",
       "    }\n",
       "</style>\n",
       "<table border=\"1\" class=\"dataframe\">\n",
       "  <thead>\n",
       "    <tr style=\"text-align: right;\">\n",
       "      <th></th>\n",
       "      <th>baseline value</th>\n",
       "      <th>accelerations</th>\n",
       "      <th>fetal_movement</th>\n",
       "      <th>uterine_contractions</th>\n",
       "      <th>light_decelerations</th>\n",
       "      <th>severe_decelerations</th>\n",
       "      <th>prolongued_decelerations</th>\n",
       "      <th>abnormal_short_term_variability</th>\n",
       "      <th>mean_value_of_short_term_variability</th>\n",
       "      <th>percentage_of_time_with_abnormal_long_term_variability</th>\n",
       "      <th>...</th>\n",
       "      <th>histogram_number_of_peaks</th>\n",
       "      <th>histogram_number_of_zeroes</th>\n",
       "      <th>histogram_mode</th>\n",
       "      <th>histogram_mean</th>\n",
       "      <th>histogram_median</th>\n",
       "      <th>histogram_variance</th>\n",
       "      <th>histogram_tendency_-1.0</th>\n",
       "      <th>histogram_tendency_0.0</th>\n",
       "      <th>histogram_tendency_1.0</th>\n",
       "      <th>fetal_health</th>\n",
       "    </tr>\n",
       "  </thead>\n",
       "  <tbody>\n",
       "    <tr>\n",
       "      <th>0</th>\n",
       "      <td>120.0</td>\n",
       "      <td>0.000</td>\n",
       "      <td>0.0</td>\n",
       "      <td>0.000</td>\n",
       "      <td>0.000</td>\n",
       "      <td>0.0</td>\n",
       "      <td>0.0</td>\n",
       "      <td>73.0</td>\n",
       "      <td>0.5</td>\n",
       "      <td>43.0</td>\n",
       "      <td>...</td>\n",
       "      <td>2.0</td>\n",
       "      <td>0.0</td>\n",
       "      <td>120.0</td>\n",
       "      <td>137.0</td>\n",
       "      <td>121.0</td>\n",
       "      <td>73.0</td>\n",
       "      <td>0.0</td>\n",
       "      <td>0.0</td>\n",
       "      <td>1.0</td>\n",
       "      <td>2.0</td>\n",
       "    </tr>\n",
       "    <tr>\n",
       "      <th>1</th>\n",
       "      <td>132.0</td>\n",
       "      <td>0.006</td>\n",
       "      <td>0.0</td>\n",
       "      <td>0.006</td>\n",
       "      <td>0.003</td>\n",
       "      <td>0.0</td>\n",
       "      <td>0.0</td>\n",
       "      <td>17.0</td>\n",
       "      <td>2.1</td>\n",
       "      <td>0.0</td>\n",
       "      <td>...</td>\n",
       "      <td>6.0</td>\n",
       "      <td>1.0</td>\n",
       "      <td>141.0</td>\n",
       "      <td>136.0</td>\n",
       "      <td>140.0</td>\n",
       "      <td>12.0</td>\n",
       "      <td>0.0</td>\n",
       "      <td>1.0</td>\n",
       "      <td>0.0</td>\n",
       "      <td>1.0</td>\n",
       "    </tr>\n",
       "    <tr>\n",
       "      <th>2</th>\n",
       "      <td>133.0</td>\n",
       "      <td>0.003</td>\n",
       "      <td>0.0</td>\n",
       "      <td>0.008</td>\n",
       "      <td>0.003</td>\n",
       "      <td>0.0</td>\n",
       "      <td>0.0</td>\n",
       "      <td>16.0</td>\n",
       "      <td>2.1</td>\n",
       "      <td>0.0</td>\n",
       "      <td>...</td>\n",
       "      <td>5.0</td>\n",
       "      <td>1.0</td>\n",
       "      <td>141.0</td>\n",
       "      <td>135.0</td>\n",
       "      <td>138.0</td>\n",
       "      <td>13.0</td>\n",
       "      <td>0.0</td>\n",
       "      <td>1.0</td>\n",
       "      <td>0.0</td>\n",
       "      <td>1.0</td>\n",
       "    </tr>\n",
       "    <tr>\n",
       "      <th>3</th>\n",
       "      <td>134.0</td>\n",
       "      <td>0.003</td>\n",
       "      <td>0.0</td>\n",
       "      <td>0.008</td>\n",
       "      <td>0.003</td>\n",
       "      <td>0.0</td>\n",
       "      <td>0.0</td>\n",
       "      <td>16.0</td>\n",
       "      <td>2.4</td>\n",
       "      <td>0.0</td>\n",
       "      <td>...</td>\n",
       "      <td>11.0</td>\n",
       "      <td>0.0</td>\n",
       "      <td>137.0</td>\n",
       "      <td>134.0</td>\n",
       "      <td>137.0</td>\n",
       "      <td>13.0</td>\n",
       "      <td>0.0</td>\n",
       "      <td>0.0</td>\n",
       "      <td>1.0</td>\n",
       "      <td>1.0</td>\n",
       "    </tr>\n",
       "    <tr>\n",
       "      <th>4</th>\n",
       "      <td>132.0</td>\n",
       "      <td>0.007</td>\n",
       "      <td>0.0</td>\n",
       "      <td>0.008</td>\n",
       "      <td>0.000</td>\n",
       "      <td>0.0</td>\n",
       "      <td>0.0</td>\n",
       "      <td>16.0</td>\n",
       "      <td>2.4</td>\n",
       "      <td>0.0</td>\n",
       "      <td>...</td>\n",
       "      <td>9.0</td>\n",
       "      <td>0.0</td>\n",
       "      <td>137.0</td>\n",
       "      <td>136.0</td>\n",
       "      <td>138.0</td>\n",
       "      <td>11.0</td>\n",
       "      <td>0.0</td>\n",
       "      <td>0.0</td>\n",
       "      <td>1.0</td>\n",
       "      <td>1.0</td>\n",
       "    </tr>\n",
       "  </tbody>\n",
       "</table>\n",
       "<p>5 rows × 24 columns</p>\n",
       "</div>"
      ],
      "text/plain": [
       "   baseline value  accelerations  fetal_movement  uterine_contractions  \\\n",
       "0           120.0          0.000             0.0                 0.000   \n",
       "1           132.0          0.006             0.0                 0.006   \n",
       "2           133.0          0.003             0.0                 0.008   \n",
       "3           134.0          0.003             0.0                 0.008   \n",
       "4           132.0          0.007             0.0                 0.008   \n",
       "\n",
       "   light_decelerations  severe_decelerations  prolongued_decelerations  \\\n",
       "0                0.000                   0.0                       0.0   \n",
       "1                0.003                   0.0                       0.0   \n",
       "2                0.003                   0.0                       0.0   \n",
       "3                0.003                   0.0                       0.0   \n",
       "4                0.000                   0.0                       0.0   \n",
       "\n",
       "   abnormal_short_term_variability  mean_value_of_short_term_variability  \\\n",
       "0                             73.0                                   0.5   \n",
       "1                             17.0                                   2.1   \n",
       "2                             16.0                                   2.1   \n",
       "3                             16.0                                   2.4   \n",
       "4                             16.0                                   2.4   \n",
       "\n",
       "   percentage_of_time_with_abnormal_long_term_variability  ...  \\\n",
       "0                                               43.0       ...   \n",
       "1                                                0.0       ...   \n",
       "2                                                0.0       ...   \n",
       "3                                                0.0       ...   \n",
       "4                                                0.0       ...   \n",
       "\n",
       "   histogram_number_of_peaks  histogram_number_of_zeroes  histogram_mode  \\\n",
       "0                        2.0                         0.0           120.0   \n",
       "1                        6.0                         1.0           141.0   \n",
       "2                        5.0                         1.0           141.0   \n",
       "3                       11.0                         0.0           137.0   \n",
       "4                        9.0                         0.0           137.0   \n",
       "\n",
       "   histogram_mean  histogram_median  histogram_variance  \\\n",
       "0           137.0             121.0                73.0   \n",
       "1           136.0             140.0                12.0   \n",
       "2           135.0             138.0                13.0   \n",
       "3           134.0             137.0                13.0   \n",
       "4           136.0             138.0                11.0   \n",
       "\n",
       "   histogram_tendency_-1.0  histogram_tendency_0.0  histogram_tendency_1.0  \\\n",
       "0                      0.0                     0.0                     1.0   \n",
       "1                      0.0                     1.0                     0.0   \n",
       "2                      0.0                     1.0                     0.0   \n",
       "3                      0.0                     0.0                     1.0   \n",
       "4                      0.0                     0.0                     1.0   \n",
       "\n",
       "   fetal_health  \n",
       "0           2.0  \n",
       "1           1.0  \n",
       "2           1.0  \n",
       "3           1.0  \n",
       "4           1.0  \n",
       "\n",
       "[5 rows x 24 columns]"
      ]
     },
     "execution_count": 3,
     "metadata": {},
     "output_type": "execute_result"
    }
   ],
   "source": [
    "df.head()"
   ]
  },
  {
   "cell_type": "markdown",
   "id": "68ea409f",
   "metadata": {},
   "source": [
    "Before we begin training the prototype model, we'll change the target feature into integers. For reference, <br>\n",
    "- 1: Normal\n",
    "- 2: Suspect\n",
    "- 3: Pathological"
   ]
  },
  {
   "cell_type": "code",
   "execution_count": 4,
   "id": "d91620fa",
   "metadata": {
    "scrolled": true
   },
   "outputs": [
    {
     "data": {
      "text/plain": [
       "dtype('int64')"
      ]
     },
     "execution_count": 4,
     "metadata": {},
     "output_type": "execute_result"
    }
   ],
   "source": [
    "# Convert the target column into an integer and check if it worked\n",
    "df['fetal_health']= df['fetal_health'].astype(int)\n",
    "df['fetal_health'].dtype"
   ]
  },
  {
   "cell_type": "markdown",
   "id": "54f1f0c6",
   "metadata": {},
   "source": [
    "There are no redudnant columns either, so we can move straight into training a baseline model. I'll be using a random forest as the baseline. Since the prototype, I've added the 'class_weight' parameter to account for the class imbalance by giving more weight to the minority classes, and this increased both the macro average F1-score and class metrics for all classes."
   ]
  },
  {
   "cell_type": "code",
   "execution_count": 5,
   "id": "7c22f736",
   "metadata": {},
   "outputs": [
    {
     "name": "stdout",
     "output_type": "stream",
     "text": [
      "Random Forest Classification Report\n",
      "              precision    recall  f1-score   support\n",
      "\n",
      "      Normal       0.95      0.99      0.97       332\n",
      "     Suspect       0.89      0.71      0.79        59\n",
      "Pathological       0.91      0.89      0.90        35\n",
      "\n",
      "    accuracy                           0.94       426\n",
      "   macro avg       0.92      0.86      0.89       426\n",
      "weighted avg       0.94      0.94      0.94       426\n",
      "\n"
     ]
    },
    {
     "data": {
      "image/png": "[encoded data removed]",
      "text/plain": [
       "<Figure size 640x480 with 2 Axes>"
      ]
     },
     "metadata": {},
     "output_type": "display_data"
    }
   ],
   "source": [
    "# Define evaluation functions\n",
    "target_names = [\"Normal\", \"Suspect\", \"Pathological\"]\n",
    "\n",
    "def class_metrics(actual, pred, labels, model_name):\n",
    "    print(f\"{model_name} Classification Report\")\n",
    "    print(classification_report(actual, pred, target_names=labels))\n",
    "    \n",
    "def display_matrix(actual, pred, labels, model_name):\n",
    "    cm = confusion_matrix(actual, pred)\n",
    "    disp = ConfusionMatrixDisplay(confusion_matrix=cm, display_labels=labels)\n",
    "    ax = disp.plot().ax_\n",
    "    ax.set_title(model_name)\n",
    "    plt.show()\n",
    "    \n",
    "# Define the X and y variables\n",
    "X = df.drop([\"fetal_health\"], axis=1)\n",
    "y = df['fetal_health']\n",
    "\n",
    "# Split into training and test sets, making sure to stratify since there's an imbalance\n",
    "X_train, X_test, y_train, y_test = train_test_split(X, y, test_size=0.2, stratify=y, random_state=42)\n",
    "\n",
    "# Create and train the random forest classifier\n",
    "rf = RandomForestClassifier(random_state=42, class_weight='balanced')\n",
    "rf.fit(X_train, y_train)\n",
    "y_pred = rf.predict(X_test)\n",
    "\n",
    "# Run evaluations\n",
    "class_metrics(y_test, y_pred, target_names, \"Random Forest\")\n",
    "display_matrix(y_test, y_pred, target_names, \"Random Forest\")"
   ]
  },
  {
   "cell_type": "markdown",
   "id": "6abce5fb",
   "metadata": {},
   "source": [
    "Let's try a different model, like XGBoost. It can handle multiclass classification well and has built in parameters to account for class imbalances. But first, we have to label encode the target variable.\n",
    "\n",
    "So the new labels will be\n",
    "\n",
    "- 0 = Normal\n",
    "- 1 = Suspect\n",
    "- 2 = Pathological"
   ]
  },
  {
   "cell_type": "code",
   "execution_count": 6,
   "id": "5e63a07c",
   "metadata": {},
   "outputs": [
    {
     "name": "stdout",
     "output_type": "stream",
     "text": [
      "{1: 0, 2: 1, 3: 2}\n"
     ]
    }
   ],
   "source": [
    "# Create a copy of the dataframe\n",
    "df_xgb = df.copy()\n",
    "\n",
    "# Initialize label encoder\n",
    "le = LabelEncoder()\n",
    "\n",
    "# Fit and transform the outcome column\n",
    "df_xgb['fetal_health'] = le.fit_transform(df_xgb['fetal_health'])\n",
    "\n",
    "# Check the mapping\n",
    "label_mapping = dict(zip(le.classes_, le.transform(le.classes_)))\n",
    "print(label_mapping)"
   ]
  },
  {
   "cell_type": "code",
   "execution_count": 7,
   "id": "c983cace",
   "metadata": {
    "scrolled": true
   },
   "outputs": [
    {
     "data": {
      "text/html": [
       "<div>\n",
       "<style scoped>\n",
       "    .dataframe tbody tr th:only-of-type {\n",
       "        vertical-align: middle;\n",
       "    }\n",
       "\n",
       "    .dataframe tbody tr th {\n",
       "        vertical-align: top;\n",
       "    }\n",
       "\n",
       "    .dataframe thead th {\n",
       "        text-align: right;\n",
       "    }\n",
       "</style>\n",
       "<table border=\"1\" class=\"dataframe\">\n",
       "  <thead>\n",
       "    <tr style=\"text-align: right;\">\n",
       "      <th></th>\n",
       "      <th>baseline value</th>\n",
       "      <th>accelerations</th>\n",
       "      <th>fetal_movement</th>\n",
       "      <th>uterine_contractions</th>\n",
       "      <th>light_decelerations</th>\n",
       "      <th>severe_decelerations</th>\n",
       "      <th>prolongued_decelerations</th>\n",
       "      <th>abnormal_short_term_variability</th>\n",
       "      <th>mean_value_of_short_term_variability</th>\n",
       "      <th>percentage_of_time_with_abnormal_long_term_variability</th>\n",
       "      <th>...</th>\n",
       "      <th>histogram_number_of_peaks</th>\n",
       "      <th>histogram_number_of_zeroes</th>\n",
       "      <th>histogram_mode</th>\n",
       "      <th>histogram_mean</th>\n",
       "      <th>histogram_median</th>\n",
       "      <th>histogram_variance</th>\n",
       "      <th>histogram_tendency_-1.0</th>\n",
       "      <th>histogram_tendency_0.0</th>\n",
       "      <th>histogram_tendency_1.0</th>\n",
       "      <th>fetal_health</th>\n",
       "    </tr>\n",
       "  </thead>\n",
       "  <tbody>\n",
       "    <tr>\n",
       "      <th>0</th>\n",
       "      <td>120.0</td>\n",
       "      <td>0.000</td>\n",
       "      <td>0.0</td>\n",
       "      <td>0.000</td>\n",
       "      <td>0.000</td>\n",
       "      <td>0.0</td>\n",
       "      <td>0.0</td>\n",
       "      <td>73.0</td>\n",
       "      <td>0.5</td>\n",
       "      <td>43.0</td>\n",
       "      <td>...</td>\n",
       "      <td>2.0</td>\n",
       "      <td>0.0</td>\n",
       "      <td>120.0</td>\n",
       "      <td>137.0</td>\n",
       "      <td>121.0</td>\n",
       "      <td>73.0</td>\n",
       "      <td>0.0</td>\n",
       "      <td>0.0</td>\n",
       "      <td>1.0</td>\n",
       "      <td>1</td>\n",
       "    </tr>\n",
       "    <tr>\n",
       "      <th>1</th>\n",
       "      <td>132.0</td>\n",
       "      <td>0.006</td>\n",
       "      <td>0.0</td>\n",
       "      <td>0.006</td>\n",
       "      <td>0.003</td>\n",
       "      <td>0.0</td>\n",
       "      <td>0.0</td>\n",
       "      <td>17.0</td>\n",
       "      <td>2.1</td>\n",
       "      <td>0.0</td>\n",
       "      <td>...</td>\n",
       "      <td>6.0</td>\n",
       "      <td>1.0</td>\n",
       "      <td>141.0</td>\n",
       "      <td>136.0</td>\n",
       "      <td>140.0</td>\n",
       "      <td>12.0</td>\n",
       "      <td>0.0</td>\n",
       "      <td>1.0</td>\n",
       "      <td>0.0</td>\n",
       "      <td>0</td>\n",
       "    </tr>\n",
       "    <tr>\n",
       "      <th>2</th>\n",
       "      <td>133.0</td>\n",
       "      <td>0.003</td>\n",
       "      <td>0.0</td>\n",
       "      <td>0.008</td>\n",
       "      <td>0.003</td>\n",
       "      <td>0.0</td>\n",
       "      <td>0.0</td>\n",
       "      <td>16.0</td>\n",
       "      <td>2.1</td>\n",
       "      <td>0.0</td>\n",
       "      <td>...</td>\n",
       "      <td>5.0</td>\n",
       "      <td>1.0</td>\n",
       "      <td>141.0</td>\n",
       "      <td>135.0</td>\n",
       "      <td>138.0</td>\n",
       "      <td>13.0</td>\n",
       "      <td>0.0</td>\n",
       "      <td>1.0</td>\n",
       "      <td>0.0</td>\n",
       "      <td>0</td>\n",
       "    </tr>\n",
       "    <tr>\n",
       "      <th>3</th>\n",
       "      <td>134.0</td>\n",
       "      <td>0.003</td>\n",
       "      <td>0.0</td>\n",
       "      <td>0.008</td>\n",
       "      <td>0.003</td>\n",
       "      <td>0.0</td>\n",
       "      <td>0.0</td>\n",
       "      <td>16.0</td>\n",
       "      <td>2.4</td>\n",
       "      <td>0.0</td>\n",
       "      <td>...</td>\n",
       "      <td>11.0</td>\n",
       "      <td>0.0</td>\n",
       "      <td>137.0</td>\n",
       "      <td>134.0</td>\n",
       "      <td>137.0</td>\n",
       "      <td>13.0</td>\n",
       "      <td>0.0</td>\n",
       "      <td>0.0</td>\n",
       "      <td>1.0</td>\n",
       "      <td>0</td>\n",
       "    </tr>\n",
       "    <tr>\n",
       "      <th>4</th>\n",
       "      <td>132.0</td>\n",
       "      <td>0.007</td>\n",
       "      <td>0.0</td>\n",
       "      <td>0.008</td>\n",
       "      <td>0.000</td>\n",
       "      <td>0.0</td>\n",
       "      <td>0.0</td>\n",
       "      <td>16.0</td>\n",
       "      <td>2.4</td>\n",
       "      <td>0.0</td>\n",
       "      <td>...</td>\n",
       "      <td>9.0</td>\n",
       "      <td>0.0</td>\n",
       "      <td>137.0</td>\n",
       "      <td>136.0</td>\n",
       "      <td>138.0</td>\n",
       "      <td>11.0</td>\n",
       "      <td>0.0</td>\n",
       "      <td>0.0</td>\n",
       "      <td>1.0</td>\n",
       "      <td>0</td>\n",
       "    </tr>\n",
       "  </tbody>\n",
       "</table>\n",
       "<p>5 rows × 24 columns</p>\n",
       "</div>"
      ],
      "text/plain": [
       "   baseline value  accelerations  fetal_movement  uterine_contractions  \\\n",
       "0           120.0          0.000             0.0                 0.000   \n",
       "1           132.0          0.006             0.0                 0.006   \n",
       "2           133.0          0.003             0.0                 0.008   \n",
       "3           134.0          0.003             0.0                 0.008   \n",
       "4           132.0          0.007             0.0                 0.008   \n",
       "\n",
       "   light_decelerations  severe_decelerations  prolongued_decelerations  \\\n",
       "0                0.000                   0.0                       0.0   \n",
       "1                0.003                   0.0                       0.0   \n",
       "2                0.003                   0.0                       0.0   \n",
       "3                0.003                   0.0                       0.0   \n",
       "4                0.000                   0.0                       0.0   \n",
       "\n",
       "   abnormal_short_term_variability  mean_value_of_short_term_variability  \\\n",
       "0                             73.0                                   0.5   \n",
       "1                             17.0                                   2.1   \n",
       "2                             16.0                                   2.1   \n",
       "3                             16.0                                   2.4   \n",
       "4                             16.0                                   2.4   \n",
       "\n",
       "   percentage_of_time_with_abnormal_long_term_variability  ...  \\\n",
       "0                                               43.0       ...   \n",
       "1                                                0.0       ...   \n",
       "2                                                0.0       ...   \n",
       "3                                                0.0       ...   \n",
       "4                                                0.0       ...   \n",
       "\n",
       "   histogram_number_of_peaks  histogram_number_of_zeroes  histogram_mode  \\\n",
       "0                        2.0                         0.0           120.0   \n",
       "1                        6.0                         1.0           141.0   \n",
       "2                        5.0                         1.0           141.0   \n",
       "3                       11.0                         0.0           137.0   \n",
       "4                        9.0                         0.0           137.0   \n",
       "\n",
       "   histogram_mean  histogram_median  histogram_variance  \\\n",
       "0           137.0             121.0                73.0   \n",
       "1           136.0             140.0                12.0   \n",
       "2           135.0             138.0                13.0   \n",
       "3           134.0             137.0                13.0   \n",
       "4           136.0             138.0                11.0   \n",
       "\n",
       "   histogram_tendency_-1.0  histogram_tendency_0.0  histogram_tendency_1.0  \\\n",
       "0                      0.0                     0.0                     1.0   \n",
       "1                      0.0                     1.0                     0.0   \n",
       "2                      0.0                     1.0                     0.0   \n",
       "3                      0.0                     0.0                     1.0   \n",
       "4                      0.0                     0.0                     1.0   \n",
       "\n",
       "   fetal_health  \n",
       "0             1  \n",
       "1             0  \n",
       "2             0  \n",
       "3             0  \n",
       "4             0  \n",
       "\n",
       "[5 rows x 24 columns]"
      ]
     },
     "execution_count": 7,
     "metadata": {},
     "output_type": "execute_result"
    }
   ],
   "source": [
    "df_xgb.head()"
   ]
  },
  {
   "cell_type": "markdown",
   "id": "43447dea",
   "metadata": {},
   "source": [
    "Now, we can train the XGBoost model. I'll also be calculating the sample weights for each class and putting it into the model so that the minority classes can be more heavily weighted in training. "
   ]
  },
  {
   "cell_type": "markdown",
   "id": "42e3ba86",
   "metadata": {},
   "source": [
    "Although the macro average F1-score is the same, the recall of the suspect class has increased from 0.71 to 0.78. The recall of the pathological class also increased slightly from 0.89 to 0.91. The confusion matrix reflects this, however, the normal class got slightly worse with mislabeling. I believe this is an acceptable trade off for prioritizing recall and F1-score of the suspect class. Given this, I'll be choosing XGBoost as my main model going forward."
   ]
  },
  {
   "cell_type": "code",
   "execution_count": 8,
   "id": "3d51362d",
   "metadata": {},
   "outputs": [
    {
     "name": "stdout",
     "output_type": "stream",
     "text": [
      "XGBoost Classification Report\n",
      "              precision    recall  f1-score   support\n",
      "\n",
      "      Normal       0.97      0.98      0.97       332\n",
      "     Suspect       0.85      0.78      0.81        59\n",
      "Pathological       0.86      0.91      0.89        35\n",
      "\n",
      "    accuracy                           0.94       426\n",
      "   macro avg       0.89      0.89      0.89       426\n",
      "weighted avg       0.94      0.94      0.94       426\n",
      "\n"
     ]
    },
    {
     "data": {
      "image/png": "[encoded data removed]",
      "text/plain": [
       "<Figure size 640x480 with 2 Axes>"
      ]
     },
     "metadata": {},
     "output_type": "display_data"
    }
   ],
   "source": [
    "# Define the X and y variables\n",
    "X_xgb = df_xgb.drop([\"fetal_health\"], axis=1)\n",
    "y_xgb = df_xgb['fetal_health']\n",
    "\n",
    "# Split into training and validation sets, making sure to stratify since there's an imbalance\n",
    "X_train_xgb, X_test_xgb, y_train_xgb, y_test_xgb = train_test_split(X_xgb, y_xgb, test_size=0.2, \n",
    "                                                                    stratify=y_xgb, random_state=42)\n",
    "\n",
    "# Compute sample weights for each class\n",
    "sample_weights = compute_sample_weight(class_weight='balanced', y=y_train_xgb)\n",
    "\n",
    "# Fit and train an XGBoost model\n",
    "xgb = XGBClassifier(objective='multi:softmax', random_state=42)\n",
    "xgb.fit(X_train_xgb, y_train_xgb, sample_weight=sample_weights)\n",
    "y_pred_xgb = xgb.predict(X_test_xgb)\n",
    "\n",
    "# Run evaluations\n",
    "class_metrics(y_test_xgb, y_pred_xgb, target_names, \"XGBoost\")\n",
    "display_matrix(y_test_xgb, y_pred_xgb, target_names, \"XGBoost\")"
   ]
  },
  {
   "cell_type": "markdown",
   "id": "29fffcd3",
   "metadata": {},
   "source": [
    "Another strategy to increase the suspect and pathological class metrics is by artifically creating more samples of these classes before training. I'll implement and compare two of these strategies: SMOTE (generating new data for the class using interpolation) and Random Oversampling (duplicating existing datapoints in the class). I will also remove the 'sample_weight' parameter to avoid overfitting."
   ]
  },
  {
   "cell_type": "code",
   "execution_count": 9,
   "id": "9f756118",
   "metadata": {},
   "outputs": [
    {
     "name": "stdout",
     "output_type": "stream",
     "text": [
      "XGBoost with Random Oversampling Classification Report\n",
      "              precision    recall  f1-score   support\n",
      "\n",
      "      Normal       0.96      0.98      0.97       332\n",
      "     Suspect       0.87      0.76      0.81        59\n",
      "Pathological       0.89      0.91      0.90        35\n",
      "\n",
      "    accuracy                           0.94       426\n",
      "   macro avg       0.91      0.89      0.89       426\n",
      "weighted avg       0.94      0.94      0.94       426\n",
      "\n"
     ]
    },
    {
     "data": {
      "image/png": "[encoded data removed]",
      "text/plain": [
       "<Figure size 640x480 with 2 Axes>"
      ]
     },
     "metadata": {},
     "output_type": "display_data"
    }
   ],
   "source": [
    "# Split the data\n",
    "X_train, X_test_ros, y_train, y_test_ros = train_test_split(X_xgb, y_xgb, test_size=0.2, stratify=y_xgb, random_state=42)\n",
    "\n",
    "# Over sample in only the training data\n",
    "ros = RandomOverSampler(random_state=42)\n",
    "X_train_ros, y_train_ros = ros.fit_resample(X_train, y_train)\n",
    "\n",
    "# Fit and train a XGBoost model\n",
    "xgb = XGBClassifier(objective='multi:softmax', random_state=42)\n",
    "xgb.fit(X_train_ros, y_train_ros)\n",
    "y_pred_ros = xgb.predict(X_test_ros)\n",
    "\n",
    "# Run evaluations\n",
    "class_metrics(y_test_ros, y_pred_ros, target_names, \"XGBoost with Random Oversampling\")\n",
    "display_matrix(y_test_ros, y_pred_ros, target_names, \"XGBoost with Random Oversampling\")"
   ]
  },
  {
   "cell_type": "markdown",
   "id": "6e18bb78",
   "metadata": {},
   "source": [
    "Looking at the confusion matrix and class report, the suspect class actually performed slightly worse, so let's move onto SMOTE."
   ]
  },
  {
   "cell_type": "code",
   "execution_count": 10,
   "id": "bc002f81",
   "metadata": {},
   "outputs": [
    {
     "name": "stdout",
     "output_type": "stream",
     "text": [
      "XGBoost with SMOTE Classification Report\n",
      "              precision    recall  f1-score   support\n",
      "\n",
      "      Normal       0.96      0.97      0.96       332\n",
      "     Suspect       0.84      0.78      0.81        59\n",
      "Pathological       0.86      0.86      0.86        35\n",
      "\n",
      "    accuracy                           0.93       426\n",
      "   macro avg       0.88      0.87      0.88       426\n",
      "weighted avg       0.93      0.93      0.93       426\n",
      "\n"
     ]
    },
    {
     "data": {
      "image/png": "[encoded data removed]",
      "text/plain": [
       "<Figure size 640x480 with 2 Axes>"
      ]
     },
     "metadata": {},
     "output_type": "display_data"
    }
   ],
   "source": [
    "# Split the data\n",
    "X_train, X_test_smote, y_train, y_test_smote = train_test_split(X_xgb, y_xgb, test_size=0.2, stratify=y_xgb, random_state=42)\n",
    "\n",
    "# Run SMOTE only on the training data\n",
    "smote = SMOTE(random_state=42)\n",
    "X_train_smote, y_train_smote = smote.fit_resample(X_train, y_train)\n",
    "\n",
    "# fit and train a XGBoost model\n",
    "xgb = XGBClassifier(objective='multi:softmax', random_state=42)\n",
    "xgb.fit(X_train_smote, y_train_smote)\n",
    "y_pred_smote = xgb.predict(X_test_smote)\n",
    "\n",
    "# Run evaluations\n",
    "class_metrics(y_test_smote, y_pred_smote, target_names, \"XGBoost with SMOTE\")\n",
    "display_matrix(y_test_smote, y_pred_smote, target_names, \"XGBoost with SMOTE\")"
   ]
  },
  {
   "cell_type": "markdown",
   "id": "cf0baabe",
   "metadata": {},
   "source": [
    "This strategy also led to slightly lower metrics, so we'll just stick with the original XGBoost model with the sample_weights added. Now, moving onto hyperparameter tuning. Since we have a severely imbalanced dataset, I'll be using Macro-averaged F1-score as the main metric for comparing model accuracy. "
   ]
  },
  {
   "cell_type": "code",
   "execution_count": 11,
   "id": "f04ec949",
   "metadata": {},
   "outputs": [
    {
     "name": "stdout",
     "output_type": "stream",
     "text": [
      "Best XGBoost Params: {'gamma': 0.1, 'learning_rate': 0.2, 'max_delta_step': 1, 'max_depth': 7, 'n_estimators': 100}\n",
      "Best XGBoost Score: 0.925025881224896\n"
     ]
    }
   ],
   "source": [
    "# Create a set of hyperparameters and range of values\n",
    "param_grid = {\n",
    "    'n_estimators': [100, 200, 300],   # Number of trees\n",
    "    'max_depth': [3, 5, 7],            # Depth of the trees\n",
    "    'learning_rate': [0.01, 0.1, 0.2], # Step size shrinkage to prevent overfitting\n",
    "    'max_delta_step': [1,3,5],         # Can help stop bias against majority class\n",
    "    'gamma': [0.1,0.3,0.5]             # Minimum loss reduction to make a split\n",
    "}\n",
    "\n",
    "# Ensure each fold has the same class proportions as the training set\n",
    "cv = StratifiedKFold(n_splits=5, shuffle=True, random_state=42)\n",
    "\n",
    "# Initialize model and apply Grid Search\n",
    "xgb = XGBClassifier(objective='multi:softmax', random_state=42)\n",
    "grid_xgb = GridSearchCV(xgb, param_grid, scoring='f1_macro', cv=cv, n_jobs=-1)\n",
    "grid_xgb.fit(X_train_xgb, y_train_xgb, sample_weight=sample_weights)\n",
    "\n",
    "# Print best paramaters and best macro F1 score\n",
    "print(\"Best XGBoost Params:\", grid_xgb.best_params_)\n",
    "print(\"Best XGBoost Score:\", grid_xgb.best_score_)"
   ]
  },
  {
   "cell_type": "markdown",
   "id": "3424c79a",
   "metadata": {},
   "source": [
    "Now, let's see how the model performs with these optimized hyperparameters on the test set."
   ]
  },
  {
   "cell_type": "code",
   "execution_count": 12,
   "id": "62162479",
   "metadata": {},
   "outputs": [
    {
     "name": "stdout",
     "output_type": "stream",
     "text": [
      "Optimized XGBoost Classification Report\n",
      "              precision    recall  f1-score   support\n",
      "\n",
      "      Normal       0.98      0.98      0.98       332\n",
      "     Suspect       0.88      0.83      0.85        59\n",
      "Pathological       0.87      0.94      0.90        35\n",
      "\n",
      "    accuracy                           0.96       426\n",
      "   macro avg       0.91      0.92      0.91       426\n",
      "weighted avg       0.96      0.96      0.96       426\n",
      "\n"
     ]
    },
    {
     "data": {
      "image/png": "[encoded data removed]",
      "text/plain": [
       "<Figure size 640x480 with 2 Axes>"
      ]
     },
     "metadata": {},
     "output_type": "display_data"
    }
   ],
   "source": [
    "# Initialize the optimized model\n",
    "final_xgb = XGBClassifier(objective='multi:softmax', \n",
    "                          random_state=42, \n",
    "                          gamma=0.1, \n",
    "                          learning_rate=0.2, \n",
    "                          max_delta_step=1, \n",
    "                          max_depth=7, \n",
    "                          n_estimators=100)\n",
    "\n",
    "# Fit the model\n",
    "final_xgb.fit(X_train_xgb, y_train_xgb, sample_weight=sample_weights)\n",
    "\n",
    "# Create the predictions\n",
    "y_pred_final = final_xgb.predict(X_test_xgb)\n",
    "\n",
    "# Evaluate the model\n",
    "class_metrics(y_test_xgb, y_pred_final, target_names, \"Optimized XGBoost\")\n",
    "display_matrix(y_test_xgb, y_pred_final, target_names, \"Optimized XGBoost\")"
   ]
  },
  {
   "cell_type": "markdown",
   "id": "275c92fb",
   "metadata": {},
   "source": [
    "This is an excellent result! Now, we'll just gather all of the scores for the models we did into a neat table."
   ]
  },
  {
   "cell_type": "code",
   "execution_count": 13,
   "id": "9fefd134",
   "metadata": {},
   "outputs": [
    {
     "data": {
      "text/html": [
       "<table>\n",
       "<thead>\n",
       "<tr><th>Model Iteration                           </th><th style=\"text-align: right;\">  Macro-Averaged F1-Score</th></tr>\n",
       "</thead>\n",
       "<tbody>\n",
       "<tr><td>Baseline Random Forest with Sample Weights</td><td style=\"text-align: right;\">                    0.887</td></tr>\n",
       "<tr><td>Baseline XGBoost                          </td><td style=\"text-align: right;\">                    0.892</td></tr>\n",
       "<tr><td>XGBoost with Random Oversampling          </td><td style=\"text-align: right;\">                    0.894</td></tr>\n",
       "<tr><td>XGBoost with SMOTE                        </td><td style=\"text-align: right;\">                    0.876</td></tr>\n",
       "<tr><td>XGBoost with Optimized Hyperparameters    </td><td style=\"text-align: right;\">                    0.912</td></tr>\n",
       "</tbody>\n",
       "</table>"
      ],
      "text/plain": [
       "<IPython.core.display.HTML object>"
      ]
     },
     "metadata": {},
     "output_type": "display_data"
    }
   ],
   "source": [
    "# Create and display table of scores\n",
    "table = [\n",
    "    [\"Baseline Random Forest with Sample Weights\", round(f1_score(y_test, y_pred, average=\"macro\"), 3)],\n",
    "    [\"Baseline XGBoost\", round(f1_score(y_test_xgb, y_pred_xgb, average=\"macro\"), 3)],\n",
    "    [\"XGBoost with Random Oversampling\", round(f1_score(y_test_ros, y_pred_ros, average=\"macro\"), 3)],\n",
    "    [\"XGBoost with SMOTE\", round(f1_score(y_test_smote, y_pred_smote, average=\"macro\"), 3)],\n",
    "    [\"XGBoost with Optimized Hyperparameters\", round(f1_score(y_test_xgb, y_pred_final, average=\"macro\"), 3)]\n",
    "]\n",
    "\n",
    "display(HTML(tabulate.tabulate(table, tablefmt='html', headers=[\"Model Iteration\", \"Macro-Averaged F1-Score\"])))"
   ]
  }
 ],
 "metadata": {
  "kernelspec": {
   "display_name": "Python 3 (ipykernel)",
   "language": "python",
   "name": "python3"
  },
  "language_info": {
   "codemirror_mode": {
    "name": "ipython",
    "version": 3
   },
   "file_extension": ".py",
   "mimetype": "text/x-python",
   "name": "python",
   "nbconvert_exporter": "python",
   "pygments_lexer": "ipython3",
   "version": "3.12.3"
  }
 },
 "nbformat": 4,
 "nbformat_minor": 5
}
